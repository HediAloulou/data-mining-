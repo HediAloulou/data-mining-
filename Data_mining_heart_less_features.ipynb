{
  "cells": [
    {
      "cell_type": "markdown",
      "metadata": {
        "id": "es2yJH7T8did"
      },
      "source": [
        "Problematic: This model Solve a Classification Problem That helps us to classify people with heart disease or not"
      ]
    },
    {
      "cell_type": "markdown",
      "metadata": {
        "id": "nTdrVdzz8h3b"
      },
      "source": [
        "# 1. Business and Data understanding"
      ]
    },
    {
      "cell_type": "markdown",
      "metadata": {
        "id": "iRIXMElydf4t"
      },
      "source": [
        "## 1.1. data and libraries importation"
      ]
    },
    {
      "cell_type": "code",
      "execution_count": 1,
      "metadata": {
        "colab": {
          "base_uri": "https://localhost:8080/",
          "height": 38
        },
        "id": "9L7wdvbO8c4Z",
        "outputId": "ce265b29-f079-4570-ab2f-6a7896d92be6"
      },
      "outputs": [],
      "source": [
        "#from google.colab import files\n",
        "#data=files.upload()"
      ]
    },
    {
      "cell_type": "code",
      "execution_count": 2,
      "metadata": {
        "colab": {
          "background_save": true
        },
        "id": "5HHYgBnXCUhi"
      },
      "outputs": [],
      "source": [
        "import pandas as pd\n",
        "import seaborn as sns\n",
        "import matplotlib.pyplot as plt\n",
        "from sklearn.preprocessing import LabelEncoder\n",
        "from sklearn.model_selection import train_test_split\n",
        "from sklearn.preprocessing import StandardScaler\n",
        "from sklearn.neighbors import KNeighborsClassifier\n",
        "from sklearn.neural_network import MLPClassifier\n",
        "from sklearn.svm import SVC\n",
        "from sklearn.ensemble import RandomForestClassifier\n",
        "from sklearn.tree import DecisionTreeClassifier\n",
        "from sklearn.model_selection import GridSearchCV\n",
        "import pickle\n",
        "from sklearn.metrics import classification_report\n"
      ]
    },
    {
      "cell_type": "markdown",
      "metadata": {
        "id": "zP_4mdiId15Z"
      },
      "source": [
        "## 1.2. Data understanding"
      ]
    },
    {
      "cell_type": "code",
      "execution_count": 3,
      "metadata": {
        "colab": {
          "background_save": true
        },
        "id": "Uki4FI8KIUTh",
        "outputId": "cf3d09d6-3cee-4d09-a7e9-dff5f34eb965"
      },
      "outputs": [
        {
          "name": "stdout",
          "output_type": "stream",
          "text": [
            "Index(['Age', 'Sex', 'ChestPainType', 'RestingBP', 'Cholesterol', 'FastingBS',\n",
            "       'RestingECG', 'MaxHR', 'ExerciseAngina', 'Oldpeak', 'ST_Slope',\n",
            "       'HeartDisease'],\n",
            "      dtype='object')\n",
            "   Age Sex ChestPainType  RestingBP  Cholesterol  FastingBS RestingECG  MaxHR  \\\n",
            "0   40   M           ATA        140          289          0     Normal    172   \n",
            "1   49   F           NAP        160          180          0     Normal    156   \n",
            "2   37   M           ATA        130          283          0         ST     98   \n",
            "3   48   F           ASY        138          214          0     Normal    108   \n",
            "4   54   M           NAP        150          195          0     Normal    122   \n",
            "\n",
            "  ExerciseAngina  Oldpeak ST_Slope  HeartDisease  \n",
            "0              N      0.0       Up             0  \n",
            "1              N      1.0     Flat             1  \n",
            "2              N      0.0       Up             0  \n",
            "3              Y      1.5     Flat             1  \n",
            "4              N      0.0       Up             0  \n",
            "<class 'pandas.core.frame.DataFrame'>\n",
            "RangeIndex: 918 entries, 0 to 917\n",
            "Data columns (total 12 columns):\n",
            " #   Column          Non-Null Count  Dtype  \n",
            "---  ------          --------------  -----  \n",
            " 0   Age             918 non-null    int64  \n",
            " 1   Sex             918 non-null    object \n",
            " 2   ChestPainType   918 non-null    object \n",
            " 3   RestingBP       918 non-null    int64  \n",
            " 4   Cholesterol     918 non-null    int64  \n",
            " 5   FastingBS       918 non-null    int64  \n",
            " 6   RestingECG      918 non-null    object \n",
            " 7   MaxHR           918 non-null    int64  \n",
            " 8   ExerciseAngina  918 non-null    object \n",
            " 9   Oldpeak         918 non-null    float64\n",
            " 10  ST_Slope        918 non-null    object \n",
            " 11  HeartDisease    918 non-null    int64  \n",
            "dtypes: float64(1), int64(6), object(5)\n",
            "memory usage: 86.2+ KB\n",
            "None\n",
            "the number of null values is :\n",
            "Age               0\n",
            "Sex               0\n",
            "ChestPainType     0\n",
            "RestingBP         0\n",
            "Cholesterol       0\n",
            "FastingBS         0\n",
            "RestingECG        0\n",
            "MaxHR             0\n",
            "ExerciseAngina    0\n",
            "Oldpeak           0\n",
            "ST_Slope          0\n",
            "HeartDisease      0\n",
            "dtype: int64\n",
            "the number of duplicated value is :\n",
            "0\n"
          ]
        }
      ],
      "source": [
        "data = pd.read_csv('heart.csv', encoding='latin', low_memory=False)\n",
        "df = pd.DataFrame(data)\n",
        "print(df.columns)\n",
        "print(df.head())\n",
        "print(df.info())\n",
        "print('the number of null values is :')\n",
        "print(data.isnull().sum())\n",
        "print('the number of duplicated value is :')\n",
        "print(data.duplicated().sum())\n"
      ]
    },
    {
      "cell_type": "markdown",
      "metadata": {
        "id": "ouGo1hpPoPQH"
      },
      "source": [
        "\n",
        "\n",
        "---\n",
        "\n",
        "\n",
        "\n",
        "*   There are 12 features and 918 samples.\n",
        "*   features are shown with different types\n",
        "*   **As shown above there are neither null values nor duplications in our database.**\n",
        "\n",
        "\n",
        "\n"
      ]
    },
    {
      "cell_type": "markdown",
      "metadata": {
        "id": "5ol_S1V_gBVX"
      },
      "source": [
        "## 1.3. Analyzing age feature and transform it into categories"
      ]
    },
    {
      "cell_type": "code",
      "execution_count": 4,
      "metadata": {
        "colab": {
          "background_save": true
        },
        "id": "d-pa9vQq1-Bs",
        "outputId": "6c43a04e-b20c-43f0-ccbc-83bda39c64dd"
      },
      "outputs": [
        {
          "name": "stdout",
          "output_type": "stream",
          "text": [
            "the max of Ages in our Data\n",
            "77\n",
            "The minimum of Ages in our Data\n",
            "28\n"
          ]
        }
      ],
      "source": [
        "print(\"the max of Ages in our Data\")\n",
        "print(df['Age'].max())\n",
        "print(\"The minimum of Ages in our Data\")\n",
        "print(df['Age'].min())"
      ]
    },
    {
      "cell_type": "markdown",
      "metadata": {
        "id": "NAtid4LlvUbh"
      },
      "source": [
        "\n",
        "\n",
        "---\n",
        "\n",
        "*   We can transform discret values of age feature into intervals .So we divide it in some categories in order to facilitate analyzing and interpretations for later\n",
        "\n",
        "\n",
        "\n"
      ]
    },
    {
      "cell_type": "code",
      "execution_count": 5,
      "metadata": {
        "colab": {
          "background_save": true
        },
        "id": "gEi09w25vTqn",
        "outputId": "05e0a6e8-3ca7-43c7-9d87-f9b77c3cd695"
      },
      "outputs": [
        {
          "name": "stdout",
          "output_type": "stream",
          "text": [
            "  Sex ChestPainType  RestingBP  Cholesterol  FastingBS RestingECG  MaxHR  \\\n",
            "0   M           ATA        140          289          0     Normal    172   \n",
            "1   F           NAP        160          180          0     Normal    156   \n",
            "2   M           ATA        130          283          0         ST     98   \n",
            "3   F           ASY        138          214          0     Normal    108   \n",
            "4   M           NAP        150          195          0     Normal    122   \n",
            "\n",
            "  ExerciseAngina  Oldpeak ST_Slope  HeartDisease AgeGroup  \n",
            "0              N      0.0       Up             0    41-50  \n",
            "1              N      1.0     Flat             1    41-50  \n",
            "2              N      0.0       Up             0    31-40  \n",
            "3              Y      1.5     Flat             1    41-50  \n",
            "4              N      0.0       Up             0    51-60  \n"
          ]
        }
      ],
      "source": [
        "bins = [ 20, 30, 40, 50, 60, 70, df['Age'].max()]\n",
        "labels = ['21-30', '31-40', '41-50', '51-60', '61-70', '71+']\n",
        "df['AgeGroup'] = pd.cut(df['Age'], bins=bins, labels=labels, right=False)\n",
        "df.drop(columns=['Age'], inplace=True)\n",
        "print(df.head())\n"
      ]
    },
    {
      "cell_type": "markdown",
      "metadata": {
        "id": "DJQdIwJA7Qa8"
      },
      "source": [
        "\n",
        "\n",
        "---\n",
        "Now we will see the values present in our data and their frequencies\n"
      ]
    },
    {
      "cell_type": "markdown",
      "metadata": {
        "id": "juH4UQnugN_b"
      },
      "source": [
        "## 1.4. Features analysis"
      ]
    },
    {
      "cell_type": "code",
      "execution_count": 6,
      "metadata": {
        "colab": {
          "background_save": true
        },
        "id": "qVOkyx9r61ux",
        "outputId": "3f587081-b44c-4c75-adc8-f1bdae094194"
      },
      "outputs": [
        {
          "name": "stdout",
          "output_type": "stream",
          "text": [
            "Column: Sex\n",
            "Sex\n",
            "M    725\n",
            "F    193\n",
            "Name: count, dtype: int64\n",
            "\n",
            "Column: ChestPainType\n",
            "ChestPainType\n",
            "ASY    496\n",
            "NAP    203\n",
            "ATA    173\n",
            "TA      46\n",
            "Name: count, dtype: int64\n",
            "\n",
            "Column: RestingBP\n",
            "RestingBP\n",
            "120    132\n",
            "130    118\n",
            "140    107\n",
            "110     58\n",
            "150     55\n",
            "      ... \n",
            "185      1\n",
            "98       1\n",
            "92       1\n",
            "113      1\n",
            "164      1\n",
            "Name: count, Length: 67, dtype: int64\n",
            "\n",
            "Column: Cholesterol\n",
            "Cholesterol\n",
            "0      172\n",
            "254     11\n",
            "223     10\n",
            "220     10\n",
            "230      9\n",
            "      ... \n",
            "392      1\n",
            "316      1\n",
            "153      1\n",
            "466      1\n",
            "131      1\n",
            "Name: count, Length: 222, dtype: int64\n",
            "\n",
            "Column: FastingBS\n",
            "FastingBS\n",
            "0    704\n",
            "1    214\n",
            "Name: count, dtype: int64\n",
            "\n",
            "Column: RestingECG\n",
            "RestingECG\n",
            "Normal    552\n",
            "LVH       188\n",
            "ST        178\n",
            "Name: count, dtype: int64\n",
            "\n",
            "Column: MaxHR\n",
            "MaxHR\n",
            "150    43\n",
            "140    41\n",
            "120    36\n",
            "130    33\n",
            "160    25\n",
            "       ..\n",
            "63      1\n",
            "83      1\n",
            "60      1\n",
            "78      1\n",
            "202     1\n",
            "Name: count, Length: 119, dtype: int64\n",
            "\n",
            "Column: ExerciseAngina\n",
            "ExerciseAngina\n",
            "N    547\n",
            "Y    371\n",
            "Name: count, dtype: int64\n",
            "\n",
            "Column: Oldpeak\n",
            "Oldpeak\n",
            " 0.0    368\n",
            " 1.0     86\n",
            " 2.0     76\n",
            " 1.5     53\n",
            " 3.0     28\n",
            " 1.2     26\n",
            " 0.2     22\n",
            " 0.5     19\n",
            " 1.4     18\n",
            " 1.8     17\n",
            " 2.5     16\n",
            " 0.8     16\n",
            " 1.6     16\n",
            " 0.1     14\n",
            " 0.6     14\n",
            " 0.4     11\n",
            " 0.3     11\n",
            " 4.0      8\n",
            " 0.7      7\n",
            " 2.8      7\n",
            " 1.9      7\n",
            " 1.3      7\n",
            " 2.6      7\n",
            " 1.1      7\n",
            " 1.7      6\n",
            " 2.2      5\n",
            " 0.9      4\n",
            " 2.4      4\n",
            " 3.6      4\n",
            " 3.4      3\n",
            " 4.2      2\n",
            " 3.5      2\n",
            "-0.5      2\n",
            " 2.3      2\n",
            " 3.2      2\n",
            " 2.1      2\n",
            "-1.0      2\n",
            "-0.1      2\n",
            " 5.6      1\n",
            " 2.9      1\n",
            " 6.2      1\n",
            " 3.8      1\n",
            "-1.5      1\n",
            " 3.1      1\n",
            "-2.0      1\n",
            " 3.7      1\n",
            "-0.8      1\n",
            "-0.7      1\n",
            "-1.1      1\n",
            "-2.6      1\n",
            "-0.9      1\n",
            " 5.0      1\n",
            " 4.4      1\n",
            "Name: count, dtype: int64\n",
            "\n",
            "Column: ST_Slope\n",
            "ST_Slope\n",
            "Flat    460\n",
            "Up      395\n",
            "Down     63\n",
            "Name: count, dtype: int64\n",
            "\n",
            "Column: HeartDisease\n",
            "HeartDisease\n",
            "1    508\n",
            "0    410\n",
            "Name: count, dtype: int64\n",
            "\n",
            "Column: AgeGroup\n",
            "AgeGroup\n",
            "51-60    374\n",
            "61-70    222\n",
            "41-50    211\n",
            "31-40     76\n",
            "71+       29\n",
            "21-30      4\n",
            "Name: count, dtype: int64\n",
            "\n"
          ]
        }
      ],
      "source": [
        "\n",
        "for column in df.columns:\n",
        "    print(\"Column:\", column)\n",
        "    print(df[column].value_counts())\n",
        "    print()\n"
      ]
    },
    {
      "cell_type": "markdown",
      "metadata": {
        "id": "QSFEor0FAWtz"
      },
      "source": [
        "\n",
        "\n",
        "---\n",
        "\n",
        "\n",
        "*   From the results represented above ,  we can conclude that it is better to use categories instead of discret values.\n"
      ]
    },
    {
      "cell_type": "code",
      "execution_count": 7,
      "metadata": {
        "colab": {
          "background_save": true
        },
        "id": "dS4o2MTcBKD5",
        "outputId": "b6cf0e0a-1c17-405b-92fc-fc3d4bd26fd6"
      },
      "outputs": [
        {
          "name": "stdout",
          "output_type": "stream",
          "text": [
            "the max of Old Peak in our Data\n",
            "6.2\n",
            "The minimum of Old Peak in our Data\n",
            "-2.6\n"
          ]
        }
      ],
      "source": [
        "print(\"the max of Old Peak in our Data\")\n",
        "print(df['Oldpeak'].max())\n",
        "print(\"The minimum of Old Peak in our Data\")\n",
        "print(df['Oldpeak'].min())"
      ]
    },
    {
      "cell_type": "markdown",
      "metadata": {
        "id": "Vr9IlTHBgxrC"
      },
      "source": [
        "# 2. Data Visualization"
      ]
    },
    {
      "cell_type": "markdown",
      "metadata": {
        "id": "b9t6EAT1IWmK"
      },
      "source": [
        "## 2.1. Target visualization and analysis"
      ]
    },
    {
      "cell_type": "code",
      "execution_count": 8,
      "metadata": {
        "id": "pxZjU8CO5oD0"
      },
      "outputs": [
        {
          "data": {
            "image/png": "[encoded data removed]",
            "text/plain": [
              "<Figure size 640x480 with 1 Axes>"
            ]
          },
          "metadata": {},
          "output_type": "display_data"
        }
      ],
      "source": [
        "sns.countplot(x='HeartDisease', data=df)\n",
        "plt.title(\"heart disease analysis\")\n",
        "plt.show()"
      ]
    },
    {
      "cell_type": "markdown",
      "metadata": {
        "id": "RvuNgdgD54lF"
      },
      "source": [
        "\n",
        "\n",
        "---\n",
        "\n",
        "So, as we can see from this visualization, our dataset is almost **balanced**; the number of cases with heart disease and without it are **nearly equal**."
      ]
    },
    {
      "cell_type": "markdown",
      "metadata": {
        "id": "nv0Vno-Fhnfh"
      },
      "source": [
        "## 2.2. Sex feature visualization and analysis"
      ]
    },
    {
      "cell_type": "code",
      "execution_count": 9,
      "metadata": {
        "id": "XhhXSnAoJD4z"
      },
      "outputs": [
        {
          "data": {
            "image/png": "[encoded data removed]",
            "text/plain": [
              "<Figure size 640x480 with 1 Axes>"
            ]
          },
          "metadata": {},
          "output_type": "display_data"
        }
      ],
      "source": [
        "import seaborn as sns\n",
        "import matplotlib.pyplot as plt\n",
        "sns.countplot(x='Sex', data=df,color=\"orange\")\n",
        "plt.title(\"sex analysis\")\n",
        "plt.show()"
      ]
    },
    {
      "cell_type": "code",
      "execution_count": 10,
      "metadata": {
        "id": "ZiahV2FvrkqO"
      },
      "outputs": [
        {
          "data": {
            "image/png": "[encoded data removed]",
            "text/plain": [
              "<Figure size 640x480 with 1 Axes>"
            ]
          },
          "metadata": {},
          "output_type": "display_data"
        }
      ],
      "source": [
        "sns.countplot(x='Sex', hue='HeartDisease', data=df)\n",
        "plt.title('Distribution of Heart Disease Cases by Sex')\n",
        "plt.show()"
      ]
    },
    {
      "cell_type": "markdown",
      "metadata": {
        "id": "Py7QkywzidpA"
      },
      "source": [
        "\n",
        "\n",
        "---\n",
        "\n",
        "\n",
        "*   The results are clearly show that number of males is bigger than females.\n",
        "\n",
        "*   we can notice that the odds of having heart disease is bigger than women do.\n",
        "\n",
        "\n"
      ]
    },
    {
      "cell_type": "code",
      "execution_count": 11,
      "metadata": {
        "id": "YkTay_cWvqhx"
      },
      "outputs": [
        {
          "data": {
            "image/png": "[encoded data removed]",
            "text/plain": [
              "<Figure size 640x480 with 1 Axes>"
            ]
          },
          "metadata": {},
          "output_type": "display_data"
        }
      ],
      "source": [
        "sns.countplot(x='AgeGroup', data=df)\n",
        "plt.title(\"Sex \")\n",
        "plt.show()"
      ]
    },
    {
      "cell_type": "markdown",
      "metadata": {
        "id": "HoBcVMzcruQb"
      },
      "source": [
        "\n",
        "\n",
        "---\n",
        "So, from this visualization, we can conclude that our data is not balanced in terms of sex; we have more men than women. Additionally, from the second visualization, we can see that the probability of a man having heart disease is higher than that of a woman."
      ]
    },
    {
      "cell_type": "code",
      "execution_count": 12,
      "metadata": {
        "id": "NWpRbcv4tNsj"
      },
      "outputs": [
        {
          "data": {
            "image/png": "[encoded data removed]",
            "text/plain": [
              "<Figure size 640x480 with 1 Axes>"
            ]
          },
          "metadata": {},
          "output_type": "display_data"
        }
      ],
      "source": [
        "sns.countplot(x='AgeGroup', hue='HeartDisease', data=df)\n",
        "plt.title('Distribution of Heart Disease Cases by Sex')\n",
        "plt.show()"
      ]
    },
    {
      "cell_type": "markdown",
      "metadata": {
        "id": "RVf6AraR5ZCs"
      },
      "source": [
        "\n",
        "\n",
        "---\n",
        "So, from this visualization, we can see that as age **increases**, the probability of having heart disease also **increases**\n"
      ]
    },
    {
      "cell_type": "markdown",
      "metadata": {
        "id": "SPJkcJEskfIQ"
      },
      "source": [
        "# 3. Data preprocessing"
      ]
    },
    {
      "cell_type": "markdown",
      "metadata": {
        "id": "vDLHo91FOu5X"
      },
      "source": [
        "## 3.1. Data enconding"
      ]
    },
    {
      "cell_type": "code",
      "execution_count": 13,
      "metadata": {
        "id": "u7lUseLMkYPk"
      },
      "outputs": [
        {
          "name": "stdout",
          "output_type": "stream",
          "text": [
            "  Sex ChestPainType  RestingBP  Cholesterol  FastingBS RestingECG  MaxHR  \\\n",
            "0   M           ATA        140          289          0     Normal    172   \n",
            "1   F           NAP        160          180          0     Normal    156   \n",
            "2   M           ATA        130          283          0         ST     98   \n",
            "3   F           ASY        138          214          0     Normal    108   \n",
            "4   M           NAP        150          195          0     Normal    122   \n",
            "\n",
            "  ExerciseAngina  Oldpeak ST_Slope  HeartDisease AgeGroup  \n",
            "0              N      0.0       Up             0    41-50  \n",
            "1              N      1.0     Flat             1    41-50  \n",
            "2              N      0.0       Up             0    31-40  \n",
            "3              Y      1.5     Flat             1    41-50  \n",
            "4              N      0.0       Up             0    51-60  \n",
            "  Sex ChestPainType  RestingBP  Cholesterol  FastingBS RestingECG  MaxHR  \\\n",
            "0   1             1        140          289          0          1    172   \n",
            "1   0             2        160          180          0          1    156   \n",
            "2   1             1        130          283          0          2     98   \n",
            "3   0             0        138          214          0          1    108   \n",
            "4   1             2        150          195          0          1    122   \n",
            "\n",
            "  ExerciseAngina  Oldpeak ST_Slope  HeartDisease  AgeGroup  \n",
            "0              0      0.0        2             0         2  \n",
            "1              0      1.0        1             1         2  \n",
            "2              0      0.0        2             0         1  \n",
            "3              1      1.5        1             1         2  \n",
            "4              0      0.0        2             0         3  \n"
          ]
        }
      ],
      "source": [
        "labelEncoder=LabelEncoder()\n",
        "print(df.head())\n",
        "df.iloc[:,0]=labelEncoder.fit_transform(df.iloc[:,0])\n",
        "df.iloc[:,1]=labelEncoder.fit_transform(df.iloc[:,1])\n",
        "df.iloc[:,5]=labelEncoder.fit_transform(df.iloc[:,5])\n",
        "df.iloc[:,7]=labelEncoder.fit_transform(df.iloc[:,7])\n",
        "df.iloc[:,9]=labelEncoder.fit_transform(df.iloc[:,9])\n",
        "df.iloc[:,11]=labelEncoder.fit_transform(df.iloc[:,11])\n",
        "print(df.head())\n"
      ]
    },
    {
      "cell_type": "markdown",
      "metadata": {
        "id": "dK9mF3U5SEKI"
      },
      "source": [
        "\n",
        "\n",
        "---\n",
        "We transform categorical values into numerical for further treatments.\n"
      ]
    },
    {
      "cell_type": "markdown",
      "metadata": {
        "id": "_KVzJGn1SR8R"
      },
      "source": [
        "## 3.2. Feature Scaling"
      ]
    },
    {
      "cell_type": "code",
      "execution_count": 14,
      "metadata": {
        "id": "YVP8S68DQ1N4"
      },
      "outputs": [
        {
          "name": "stdout",
          "output_type": "stream",
          "text": [
            "        Sex  ChestPainType  RestingBP  Cholesterol  FastingBS  RestingECG  \\\n",
            "0  0.515952       0.229032   0.410909     0.825070  -0.551341    0.017255   \n",
            "1 -1.938163       1.275059   1.491752    -0.171961  -0.551341    0.017255   \n",
            "2  0.515952       0.229032  -0.129513     0.770188  -0.551341    1.601219   \n",
            "3 -1.938163      -0.816995   0.302825     0.139040  -0.551341    0.017255   \n",
            "4  0.515952       1.275059   0.951331    -0.034755  -0.551341    0.017255   \n",
            "\n",
            "      MaxHR  ExerciseAngina   Oldpeak  ST_Slope  \n",
            "0  1.382928       -0.823556 -0.832432  1.052114  \n",
            "1  0.754157       -0.823556  0.105664 -0.596078  \n",
            "2 -1.525138       -0.823556 -0.832432  1.052114  \n",
            "3 -1.132156        1.214246  0.574711 -0.596078  \n",
            "4 -0.581981       -0.823556 -0.832432  1.052114  \n",
            "          Sex  ChestPainType  RestingBP  Cholesterol  FastingBS  RestingECG  \\\n",
            "0    0.515952       0.229032   0.410909     0.825070  -0.551341    0.017255   \n",
            "1   -1.938163       1.275059   1.491752    -0.171961  -0.551341    0.017255   \n",
            "2    0.515952       0.229032  -0.129513     0.770188  -0.551341    1.601219   \n",
            "3   -1.938163      -0.816995   0.302825     0.139040  -0.551341    0.017255   \n",
            "4    0.515952       1.275059   0.951331    -0.034755  -0.551341    0.017255   \n",
            "..        ...            ...        ...          ...        ...         ...   \n",
            "913  0.515952       2.321086  -1.210356     0.596393  -0.551341    0.017255   \n",
            "914  0.515952      -0.816995   0.627078    -0.053049   1.813758    0.017255   \n",
            "915  0.515952      -0.816995  -0.129513    -0.620168  -0.551341    0.017255   \n",
            "916 -1.938163       0.229032  -0.129513     0.340275  -0.551341   -1.566710   \n",
            "917  0.515952       1.275059   0.302825    -0.217696  -0.551341    0.017255   \n",
            "\n",
            "        MaxHR  ExerciseAngina   Oldpeak  ST_Slope  HeartDisease  AgeGroup  \n",
            "0    1.382928       -0.823556 -0.832432  1.052114             0         2  \n",
            "1    0.754157       -0.823556  0.105664 -0.596078             1         2  \n",
            "2   -1.525138       -0.823556 -0.832432  1.052114             0         1  \n",
            "3   -1.132156        1.214246  0.574711 -0.596078             1         2  \n",
            "4   -0.581981       -0.823556 -0.832432  1.052114             0         3  \n",
            "..        ...             ...       ...       ...           ...       ...  \n",
            "913 -0.188999       -0.823556  0.293283 -0.596078             1         2  \n",
            "914  0.164684       -0.823556  2.357094 -0.596078             1         4  \n",
            "915 -0.857069        1.214246  0.293283 -0.596078             1         3  \n",
            "916  1.461525       -0.823556 -0.832432 -0.596078             1         3  \n",
            "917  1.422226       -0.823556 -0.832432  1.052114             0         1  \n",
            "\n",
            "[918 rows x 12 columns]\n"
          ]
        }
      ],
      "source": [
        "standard_scaler = StandardScaler()\n",
        "agegroup = df[\"AgeGroup\"]\n",
        "heartdisease= df[\"HeartDisease\"]\n",
        "df.drop(columns=['AgeGroup', 'HeartDisease'], inplace=True)\n",
        "scaled_data = standard_scaler.fit_transform(df)\n",
        "df_scaled = pd.DataFrame(scaled_data, columns=df.columns)\n",
        "print(df_scaled.head())\n",
        "df_scaled[\"HeartDisease\"]=heartdisease\n",
        "df_scaled[\"AgeGroup\"]=agegroup\n",
        "print(df_scaled)\n"
      ]
    },
    {
      "cell_type": "markdown",
      "metadata": {
        "id": "n0_9cfqWV85g"
      },
      "source": [
        "\n",
        "\n",
        "---\n",
        "**We tried to scale our data in order to approach values with each other . Thus , it will facilitate the work while training the model**\n"
      ]
    },
    {
      "cell_type": "markdown",
      "metadata": {
        "id": "dRRXpot4VQyd"
      },
      "source": [
        "## 3.3. Data Partionning"
      ]
    },
    {
      "cell_type": "code",
      "execution_count": 15,
      "metadata": {
        "id": "9Wr4REsOS4lS"
      },
      "outputs": [],
      "source": [
        "X=df_scaled.drop(\"HeartDisease\",axis=1)\n",
        "Target=df_scaled[\"HeartDisease\"]\n",
        "X_train,X_test,Y_train,Y_test=train_test_split(X,Target,test_size=0.33)"
      ]
    },
    {
      "cell_type": "markdown",
      "metadata": {
        "id": "6NnKHYWaWp4o"
      },
      "source": [
        "# 4. Machine Learning"
      ]
    },
    {
      "cell_type": "markdown",
      "metadata": {
        "id": "tHWK8UNHWszx"
      },
      "source": [
        "## 4.1. Knn Model\n",
        "\n",
        "---\n",
        "\n",
        "K-Nearest Neighbors (KNN) is a simple and versatile supervised machine learning algorithm used for classification and regression tasks.\n",
        "In KNN, the prediction of a new data point is based on the majority class or the average value of its 'k' nearest neighbors in the feature space.\n"
      ]
    },
    {
      "cell_type": "markdown",
      "metadata": {
        "id": "6DPbT97Cah8i"
      },
      "source": [
        "### 4.1.1. with k = 5"
      ]
    },
    {
      "cell_type": "code",
      "execution_count": 16,
      "metadata": {
        "id": "FdaN7Y8SWMKR"
      },
      "outputs": [],
      "source": [
        "KNN5=KNeighborsClassifier(n_neighbors=3,metric='euclidean')\n",
        "KNN5.fit(X_train,Y_train)\n",
        "y_predict_knn=KNN5.predict(X_test)"
      ]
    },
    {
      "cell_type": "markdown",
      "metadata": {
        "id": "Ws6hA5B0XEo6"
      },
      "source": [
        "### 4.1.2. with k = 3"
      ]
    },
    {
      "cell_type": "code",
      "execution_count": 17,
      "metadata": {
        "id": "l12SIrZiXLAO"
      },
      "outputs": [],
      "source": [
        "KNN5=KNeighborsClassifier(n_neighbors=5,metric='euclidean')\n",
        "KNN5.fit(X_train,Y_train)\n",
        "y_predict_knn=KNN5.predict(X_test)"
      ]
    },
    {
      "cell_type": "markdown",
      "metadata": {
        "id": "WOu4jkYld6g3"
      },
      "source": [
        "### 4.1.3. with k = 7"
      ]
    },
    {
      "cell_type": "code",
      "execution_count": 18,
      "metadata": {
        "id": "P1H-l23Dd9wd"
      },
      "outputs": [],
      "source": [
        "KNN5=KNeighborsClassifier(n_neighbors=7,metric='euclidean')\n",
        "KNN5.fit(X_train,Y_train)\n",
        "y_predict_knn=KNN5.predict(X_test)"
      ]
    },
    {
      "cell_type": "markdown",
      "metadata": {
        "id": "aieSzfbEX1NP"
      },
      "source": [
        "## 4.2. Multi Layer Perceptron\n",
        "\n",
        "\n",
        "---\n",
        "A Multi-Layer Perceptron (MLP) is a type of artificial neural network that consists of multiple layers of nodes (neurons) arranged in a feedforward manner. It is one of the most common and versatile architectures used in deep learning for supervised learning tasks, such as classification and regression.\n"
      ]
    },
    {
      "cell_type": "code",
      "execution_count": 19,
      "metadata": {
        "id": "KILOmmAsXz1I"
      },
      "outputs": [],
      "source": [
        "mlp=MLPClassifier(activation='relu',max_iter=1000,hidden_layer_sizes=(8,8),solver='adam')\n",
        "mlp.fit(X_train,Y_train)\n",
        "y_predict_mlp=mlp.predict(X_test)"
      ]
    },
    {
      "cell_type": "markdown",
      "metadata": {
        "id": "vHQNlWXIYEx9"
      },
      "source": [
        "## 4.3. SVM\n",
        "\n",
        "\n",
        "---\n",
        "\n",
        "Support Vector Machine (SVM) is a powerful supervised machine learning algorithm used for classification and regression tasks. SVM is particularly well-suited for classification tasks in which the data can be separated into distinct classes by finding the hyperplane that maximizes the margin between classes.\n"
      ]
    },
    {
      "cell_type": "markdown",
      "metadata": {
        "id": "g2xOtzX9YVgW"
      },
      "source": [
        "### 4.3.1. Choosing the best parameters for svm model"
      ]
    },
    {
      "cell_type": "code",
      "execution_count": 20,
      "metadata": {
        "id": "gWgREJG7YUdv"
      },
      "outputs": [
        {
          "name": "stdout",
          "output_type": "stream",
          "text": [
            "best parameters are  {'C': 1, 'gamma': 0.01, 'kernel': 'rbf'}\n",
            "best predictor for svm is  :  SVC(C=1, gamma=0.01)\n"
          ]
        }
      ],
      "source": [
        "model=SVC()\n",
        "param_grid={'C':[0.1,1,10,100,1000],\n",
        "            'gamma':[1,0.1,0.01,0.001,0.0001],\n",
        "            'kernel':['rbf','poly','sigmoid']\n",
        "            }\n",
        "grid=GridSearchCV(model,param_grid,cv=5)\n",
        "grid.fit(X_train,Y_train)\n",
        "print('best parameters are ',grid.best_params_)\n",
        "print('best predictor for svm is  : ',grid.best_estimator_)"
      ]
    },
    {
      "cell_type": "markdown",
      "metadata": {
        "id": "5AddPWEFYmia"
      },
      "source": [
        "\n",
        "\n",
        "---\n",
        "As shown above , best parameters when using\n",
        "\n",
        "\n",
        "*   c = 10\n",
        "*   gamma = 0.01\n",
        "*   kernel = rbf\n",
        "\n",
        "\n",
        "\n",
        "\n"
      ]
    },
    {
      "cell_type": "markdown",
      "metadata": {
        "id": "k3sTzZmwYbfF"
      },
      "source": [
        "## 4.3.2. SVM model cretaion with best paremeters"
      ]
    },
    {
      "cell_type": "code",
      "execution_count": 21,
      "metadata": {
        "id": "NSFAe8x7YlI4"
      },
      "outputs": [],
      "source": [
        "SVM_model=SVC(C=10, gamma=0.01, kernel='rbf')\n",
        "SVM_model.fit(X_train,Y_train)\n",
        "y_predict_svm=SVM_model.predict(X_test)"
      ]
    },
    {
      "cell_type": "markdown",
      "metadata": {
        "id": "GKgJeL7kcWzY"
      },
      "source": [
        "## 4.4. Random Forest Tree\n",
        "\n",
        "\n",
        "---\n",
        "Random Forest is an ensemble learning method that constructs multiple decision trees during training and outputs the mode of the classes (classification) or the mean prediction (regression) of the individual trees. It improves the performance of decision trees by reducing overfitting and increasing accuracy.\n"
      ]
    },
    {
      "cell_type": "code",
      "execution_count": 22,
      "metadata": {
        "id": "1LdHH2PsZtfg"
      },
      "outputs": [],
      "source": [
        "rf_classifier = RandomForestClassifier(n_estimators=100, random_state=42)\n",
        "rf_classifier.fit(X_train, Y_train)\n",
        "y_predict_rf = rf_classifier.predict(X_test)"
      ]
    },
    {
      "cell_type": "markdown",
      "metadata": {
        "id": "rS5rsxsCccGD"
      },
      "source": [
        "## 4.5. Decision Tree Classifier\n",
        "\n",
        "\n",
        "---\n",
        "\n",
        "\n",
        "Decision Tree is a simple and interpretable classification algorithm that partitions the feature space into a hierarchy of nested if-else statements based on the values of input features. Each internal node represents a decision based on a feature, and each leaf node represents the class label."
      ]
    },
    {
      "cell_type": "code",
      "execution_count": 23,
      "metadata": {
        "id": "t2YKbCYHce8y"
      },
      "outputs": [],
      "source": [
        "dt_classifier = DecisionTreeClassifier(random_state=42)\n",
        "dt_classifier.fit(X_train, Y_train)\n",
        "y_predict_dt = dt_classifier.predict(X_test)"
      ]
    },
    {
      "cell_type": "markdown",
      "metadata": {
        "id": "5m-BdMCfczPM"
      },
      "source": [
        "# 5. Coross validation treatment with cv = 4\n",
        "-- > It's important to perform cross validation for obtaining best suitable parameters for each model"
      ]
    },
    {
      "cell_type": "markdown",
      "metadata": {
        "id": "R439Us66ik3C"
      },
      "source": [
        "## 5.1. print f1 score and make the evaluation of each model\n",
        "\n",
        "\n"
      ]
    },
    {
      "cell_type": "code",
      "execution_count": 24,
      "metadata": {
        "id": "a6PU6wadd0Gk"
      },
      "outputs": [
        {
          "name": "stderr",
          "output_type": "stream",
          "text": [
            "c:\\Users\\Hedi Aloulou\\anaconda3\\envs\\deep\\lib\\site-packages\\sklearn\\neural_network\\_multilayer_perceptron.py:691: ConvergenceWarning: Stochastic Optimizer: Maximum iterations (100) reached and the optimization hasn't converged yet.\n",
            "  warnings.warn(\n",
            "c:\\Users\\Hedi Aloulou\\anaconda3\\envs\\deep\\lib\\site-packages\\sklearn\\neural_network\\_multilayer_perceptron.py:691: ConvergenceWarning: Stochastic Optimizer: Maximum iterations (100) reached and the optimization hasn't converged yet.\n",
            "  warnings.warn(\n",
            "c:\\Users\\Hedi Aloulou\\anaconda3\\envs\\deep\\lib\\site-packages\\sklearn\\neural_network\\_multilayer_perceptron.py:691: ConvergenceWarning: Stochastic Optimizer: Maximum iterations (100) reached and the optimization hasn't converged yet.\n",
            "  warnings.warn(\n",
            "c:\\Users\\Hedi Aloulou\\anaconda3\\envs\\deep\\lib\\site-packages\\sklearn\\neural_network\\_multilayer_perceptron.py:691: ConvergenceWarning: Stochastic Optimizer: Maximum iterations (100) reached and the optimization hasn't converged yet.\n",
            "  warnings.warn(\n",
            "c:\\Users\\Hedi Aloulou\\anaconda3\\envs\\deep\\lib\\site-packages\\sklearn\\neural_network\\_multilayer_perceptron.py:691: ConvergenceWarning: Stochastic Optimizer: Maximum iterations (100) reached and the optimization hasn't converged yet.\n",
            "  warnings.warn(\n",
            "c:\\Users\\Hedi Aloulou\\anaconda3\\envs\\deep\\lib\\site-packages\\sklearn\\neural_network\\_multilayer_perceptron.py:691: ConvergenceWarning: Stochastic Optimizer: Maximum iterations (100) reached and the optimization hasn't converged yet.\n",
            "  warnings.warn(\n",
            "c:\\Users\\Hedi Aloulou\\anaconda3\\envs\\deep\\lib\\site-packages\\sklearn\\neural_network\\_multilayer_perceptron.py:691: ConvergenceWarning: Stochastic Optimizer: Maximum iterations (100) reached and the optimization hasn't converged yet.\n",
            "  warnings.warn(\n",
            "c:\\Users\\Hedi Aloulou\\anaconda3\\envs\\deep\\lib\\site-packages\\sklearn\\neural_network\\_multilayer_perceptron.py:691: ConvergenceWarning: Stochastic Optimizer: Maximum iterations (100) reached and the optimization hasn't converged yet.\n",
            "  warnings.warn(\n",
            "c:\\Users\\Hedi Aloulou\\anaconda3\\envs\\deep\\lib\\site-packages\\sklearn\\neural_network\\_multilayer_perceptron.py:691: ConvergenceWarning: Stochastic Optimizer: Maximum iterations (100) reached and the optimization hasn't converged yet.\n",
            "  warnings.warn(\n",
            "c:\\Users\\Hedi Aloulou\\anaconda3\\envs\\deep\\lib\\site-packages\\sklearn\\neural_network\\_multilayer_perceptron.py:691: ConvergenceWarning: Stochastic Optimizer: Maximum iterations (100) reached and the optimization hasn't converged yet.\n",
            "  warnings.warn(\n",
            "c:\\Users\\Hedi Aloulou\\anaconda3\\envs\\deep\\lib\\site-packages\\sklearn\\neural_network\\_multilayer_perceptron.py:691: ConvergenceWarning: Stochastic Optimizer: Maximum iterations (100) reached and the optimization hasn't converged yet.\n",
            "  warnings.warn(\n",
            "c:\\Users\\Hedi Aloulou\\anaconda3\\envs\\deep\\lib\\site-packages\\sklearn\\neural_network\\_multilayer_perceptron.py:691: ConvergenceWarning: Stochastic Optimizer: Maximum iterations (100) reached and the optimization hasn't converged yet.\n",
            "  warnings.warn(\n",
            "c:\\Users\\Hedi Aloulou\\anaconda3\\envs\\deep\\lib\\site-packages\\sklearn\\neural_network\\_multilayer_perceptron.py:691: ConvergenceWarning: Stochastic Optimizer: Maximum iterations (100) reached and the optimization hasn't converged yet.\n",
            "  warnings.warn(\n",
            "c:\\Users\\Hedi Aloulou\\anaconda3\\envs\\deep\\lib\\site-packages\\sklearn\\neural_network\\_multilayer_perceptron.py:691: ConvergenceWarning: Stochastic Optimizer: Maximum iterations (100) reached and the optimization hasn't converged yet.\n",
            "  warnings.warn(\n",
            "c:\\Users\\Hedi Aloulou\\anaconda3\\envs\\deep\\lib\\site-packages\\sklearn\\neural_network\\_multilayer_perceptron.py:691: ConvergenceWarning: Stochastic Optimizer: Maximum iterations (100) reached and the optimization hasn't converged yet.\n",
            "  warnings.warn(\n",
            "c:\\Users\\Hedi Aloulou\\anaconda3\\envs\\deep\\lib\\site-packages\\sklearn\\neural_network\\_multilayer_perceptron.py:691: ConvergenceWarning: Stochastic Optimizer: Maximum iterations (100) reached and the optimization hasn't converged yet.\n",
            "  warnings.warn(\n",
            "c:\\Users\\Hedi Aloulou\\anaconda3\\envs\\deep\\lib\\site-packages\\sklearn\\neural_network\\_multilayer_perceptron.py:691: ConvergenceWarning: Stochastic Optimizer: Maximum iterations (100) reached and the optimization hasn't converged yet.\n",
            "  warnings.warn(\n",
            "c:\\Users\\Hedi Aloulou\\anaconda3\\envs\\deep\\lib\\site-packages\\sklearn\\neural_network\\_multilayer_perceptron.py:691: ConvergenceWarning: Stochastic Optimizer: Maximum iterations (100) reached and the optimization hasn't converged yet.\n",
            "  warnings.warn(\n",
            "c:\\Users\\Hedi Aloulou\\anaconda3\\envs\\deep\\lib\\site-packages\\sklearn\\neural_network\\_multilayer_perceptron.py:691: ConvergenceWarning: Stochastic Optimizer: Maximum iterations (100) reached and the optimization hasn't converged yet.\n",
            "  warnings.warn(\n",
            "c:\\Users\\Hedi Aloulou\\anaconda3\\envs\\deep\\lib\\site-packages\\sklearn\\neural_network\\_multilayer_perceptron.py:691: ConvergenceWarning: Stochastic Optimizer: Maximum iterations (100) reached and the optimization hasn't converged yet.\n",
            "  warnings.warn(\n",
            "c:\\Users\\Hedi Aloulou\\anaconda3\\envs\\deep\\lib\\site-packages\\sklearn\\neural_network\\_multilayer_perceptron.py:691: ConvergenceWarning: Stochastic Optimizer: Maximum iterations (100) reached and the optimization hasn't converged yet.\n",
            "  warnings.warn(\n",
            "c:\\Users\\Hedi Aloulou\\anaconda3\\envs\\deep\\lib\\site-packages\\sklearn\\neural_network\\_multilayer_perceptron.py:691: ConvergenceWarning: Stochastic Optimizer: Maximum iterations (100) reached and the optimization hasn't converged yet.\n",
            "  warnings.warn(\n",
            "c:\\Users\\Hedi Aloulou\\anaconda3\\envs\\deep\\lib\\site-packages\\sklearn\\neural_network\\_multilayer_perceptron.py:691: ConvergenceWarning: Stochastic Optimizer: Maximum iterations (100) reached and the optimization hasn't converged yet.\n",
            "  warnings.warn(\n",
            "c:\\Users\\Hedi Aloulou\\anaconda3\\envs\\deep\\lib\\site-packages\\sklearn\\neural_network\\_multilayer_perceptron.py:691: ConvergenceWarning: Stochastic Optimizer: Maximum iterations (100) reached and the optimization hasn't converged yet.\n",
            "  warnings.warn(\n",
            "c:\\Users\\Hedi Aloulou\\anaconda3\\envs\\deep\\lib\\site-packages\\sklearn\\neural_network\\_multilayer_perceptron.py:691: ConvergenceWarning: Stochastic Optimizer: Maximum iterations (100) reached and the optimization hasn't converged yet.\n",
            "  warnings.warn(\n",
            "c:\\Users\\Hedi Aloulou\\anaconda3\\envs\\deep\\lib\\site-packages\\sklearn\\neural_network\\_multilayer_perceptron.py:691: ConvergenceWarning: Stochastic Optimizer: Maximum iterations (100) reached and the optimization hasn't converged yet.\n",
            "  warnings.warn(\n",
            "c:\\Users\\Hedi Aloulou\\anaconda3\\envs\\deep\\lib\\site-packages\\sklearn\\neural_network\\_multilayer_perceptron.py:691: ConvergenceWarning: Stochastic Optimizer: Maximum iterations (100) reached and the optimization hasn't converged yet.\n",
            "  warnings.warn(\n",
            "c:\\Users\\Hedi Aloulou\\anaconda3\\envs\\deep\\lib\\site-packages\\sklearn\\neural_network\\_multilayer_perceptron.py:691: ConvergenceWarning: Stochastic Optimizer: Maximum iterations (100) reached and the optimization hasn't converged yet.\n",
            "  warnings.warn(\n",
            "c:\\Users\\Hedi Aloulou\\anaconda3\\envs\\deep\\lib\\site-packages\\sklearn\\neural_network\\_multilayer_perceptron.py:691: ConvergenceWarning: Stochastic Optimizer: Maximum iterations (100) reached and the optimization hasn't converged yet.\n",
            "  warnings.warn(\n",
            "c:\\Users\\Hedi Aloulou\\anaconda3\\envs\\deep\\lib\\site-packages\\sklearn\\neural_network\\_multilayer_perceptron.py:691: ConvergenceWarning: Stochastic Optimizer: Maximum iterations (100) reached and the optimization hasn't converged yet.\n",
            "  warnings.warn(\n",
            "c:\\Users\\Hedi Aloulou\\anaconda3\\envs\\deep\\lib\\site-packages\\sklearn\\neural_network\\_multilayer_perceptron.py:691: ConvergenceWarning: Stochastic Optimizer: Maximum iterations (100) reached and the optimization hasn't converged yet.\n",
            "  warnings.warn(\n",
            "c:\\Users\\Hedi Aloulou\\anaconda3\\envs\\deep\\lib\\site-packages\\sklearn\\neural_network\\_multilayer_perceptron.py:691: ConvergenceWarning: Stochastic Optimizer: Maximum iterations (100) reached and the optimization hasn't converged yet.\n",
            "  warnings.warn(\n",
            "c:\\Users\\Hedi Aloulou\\anaconda3\\envs\\deep\\lib\\site-packages\\sklearn\\neural_network\\_multilayer_perceptron.py:691: ConvergenceWarning: Stochastic Optimizer: Maximum iterations (100) reached and the optimization hasn't converged yet.\n",
            "  warnings.warn(\n",
            "c:\\Users\\Hedi Aloulou\\anaconda3\\envs\\deep\\lib\\site-packages\\sklearn\\neural_network\\_multilayer_perceptron.py:691: ConvergenceWarning: Stochastic Optimizer: Maximum iterations (100) reached and the optimization hasn't converged yet.\n",
            "  warnings.warn(\n",
            "c:\\Users\\Hedi Aloulou\\anaconda3\\envs\\deep\\lib\\site-packages\\sklearn\\neural_network\\_multilayer_perceptron.py:691: ConvergenceWarning: Stochastic Optimizer: Maximum iterations (100) reached and the optimization hasn't converged yet.\n",
            "  warnings.warn(\n",
            "c:\\Users\\Hedi Aloulou\\anaconda3\\envs\\deep\\lib\\site-packages\\sklearn\\neural_network\\_multilayer_perceptron.py:691: ConvergenceWarning: Stochastic Optimizer: Maximum iterations (100) reached and the optimization hasn't converged yet.\n",
            "  warnings.warn(\n",
            "c:\\Users\\Hedi Aloulou\\anaconda3\\envs\\deep\\lib\\site-packages\\sklearn\\neural_network\\_multilayer_perceptron.py:691: ConvergenceWarning: Stochastic Optimizer: Maximum iterations (100) reached and the optimization hasn't converged yet.\n",
            "  warnings.warn(\n",
            "c:\\Users\\Hedi Aloulou\\anaconda3\\envs\\deep\\lib\\site-packages\\sklearn\\neural_network\\_multilayer_perceptron.py:691: ConvergenceWarning: Stochastic Optimizer: Maximum iterations (100) reached and the optimization hasn't converged yet.\n",
            "  warnings.warn(\n",
            "c:\\Users\\Hedi Aloulou\\anaconda3\\envs\\deep\\lib\\site-packages\\sklearn\\neural_network\\_multilayer_perceptron.py:691: ConvergenceWarning: Stochastic Optimizer: Maximum iterations (100) reached and the optimization hasn't converged yet.\n",
            "  warnings.warn(\n",
            "c:\\Users\\Hedi Aloulou\\anaconda3\\envs\\deep\\lib\\site-packages\\sklearn\\neural_network\\_multilayer_perceptron.py:691: ConvergenceWarning: Stochastic Optimizer: Maximum iterations (100) reached and the optimization hasn't converged yet.\n",
            "  warnings.warn(\n",
            "c:\\Users\\Hedi Aloulou\\anaconda3\\envs\\deep\\lib\\site-packages\\sklearn\\neural_network\\_multilayer_perceptron.py:691: ConvergenceWarning: Stochastic Optimizer: Maximum iterations (100) reached and the optimization hasn't converged yet.\n",
            "  warnings.warn(\n",
            "c:\\Users\\Hedi Aloulou\\anaconda3\\envs\\deep\\lib\\site-packages\\sklearn\\neural_network\\_multilayer_perceptron.py:691: ConvergenceWarning: Stochastic Optimizer: Maximum iterations (100) reached and the optimization hasn't converged yet.\n",
            "  warnings.warn(\n",
            "c:\\Users\\Hedi Aloulou\\anaconda3\\envs\\deep\\lib\\site-packages\\sklearn\\neural_network\\_multilayer_perceptron.py:691: ConvergenceWarning: Stochastic Optimizer: Maximum iterations (100) reached and the optimization hasn't converged yet.\n",
            "  warnings.warn(\n",
            "c:\\Users\\Hedi Aloulou\\anaconda3\\envs\\deep\\lib\\site-packages\\sklearn\\neural_network\\_multilayer_perceptron.py:691: ConvergenceWarning: Stochastic Optimizer: Maximum iterations (100) reached and the optimization hasn't converged yet.\n",
            "  warnings.warn(\n",
            "c:\\Users\\Hedi Aloulou\\anaconda3\\envs\\deep\\lib\\site-packages\\sklearn\\neural_network\\_multilayer_perceptron.py:691: ConvergenceWarning: Stochastic Optimizer: Maximum iterations (100) reached and the optimization hasn't converged yet.\n",
            "  warnings.warn(\n",
            "c:\\Users\\Hedi Aloulou\\anaconda3\\envs\\deep\\lib\\site-packages\\sklearn\\neural_network\\_multilayer_perceptron.py:691: ConvergenceWarning: Stochastic Optimizer: Maximum iterations (100) reached and the optimization hasn't converged yet.\n",
            "  warnings.warn(\n",
            "c:\\Users\\Hedi Aloulou\\anaconda3\\envs\\deep\\lib\\site-packages\\sklearn\\neural_network\\_multilayer_perceptron.py:691: ConvergenceWarning: Stochastic Optimizer: Maximum iterations (100) reached and the optimization hasn't converged yet.\n",
            "  warnings.warn(\n",
            "c:\\Users\\Hedi Aloulou\\anaconda3\\envs\\deep\\lib\\site-packages\\sklearn\\neural_network\\_multilayer_perceptron.py:691: ConvergenceWarning: Stochastic Optimizer: Maximum iterations (100) reached and the optimization hasn't converged yet.\n",
            "  warnings.warn(\n",
            "c:\\Users\\Hedi Aloulou\\anaconda3\\envs\\deep\\lib\\site-packages\\sklearn\\neural_network\\_multilayer_perceptron.py:691: ConvergenceWarning: Stochastic Optimizer: Maximum iterations (100) reached and the optimization hasn't converged yet.\n",
            "  warnings.warn(\n",
            "c:\\Users\\Hedi Aloulou\\anaconda3\\envs\\deep\\lib\\site-packages\\sklearn\\neural_network\\_multilayer_perceptron.py:691: ConvergenceWarning: Stochastic Optimizer: Maximum iterations (100) reached and the optimization hasn't converged yet.\n",
            "  warnings.warn(\n",
            "c:\\Users\\Hedi Aloulou\\anaconda3\\envs\\deep\\lib\\site-packages\\sklearn\\neural_network\\_multilayer_perceptron.py:691: ConvergenceWarning: Stochastic Optimizer: Maximum iterations (100) reached and the optimization hasn't converged yet.\n",
            "  warnings.warn(\n",
            "c:\\Users\\Hedi Aloulou\\anaconda3\\envs\\deep\\lib\\site-packages\\sklearn\\neural_network\\_multilayer_perceptron.py:691: ConvergenceWarning: Stochastic Optimizer: Maximum iterations (100) reached and the optimization hasn't converged yet.\n",
            "  warnings.warn(\n",
            "c:\\Users\\Hedi Aloulou\\anaconda3\\envs\\deep\\lib\\site-packages\\sklearn\\neural_network\\_multilayer_perceptron.py:691: ConvergenceWarning: Stochastic Optimizer: Maximum iterations (100) reached and the optimization hasn't converged yet.\n",
            "  warnings.warn(\n",
            "c:\\Users\\Hedi Aloulou\\anaconda3\\envs\\deep\\lib\\site-packages\\sklearn\\neural_network\\_multilayer_perceptron.py:691: ConvergenceWarning: Stochastic Optimizer: Maximum iterations (100) reached and the optimization hasn't converged yet.\n",
            "  warnings.warn(\n",
            "c:\\Users\\Hedi Aloulou\\anaconda3\\envs\\deep\\lib\\site-packages\\sklearn\\neural_network\\_multilayer_perceptron.py:691: ConvergenceWarning: Stochastic Optimizer: Maximum iterations (100) reached and the optimization hasn't converged yet.\n",
            "  warnings.warn(\n",
            "c:\\Users\\Hedi Aloulou\\anaconda3\\envs\\deep\\lib\\site-packages\\sklearn\\neural_network\\_multilayer_perceptron.py:691: ConvergenceWarning: Stochastic Optimizer: Maximum iterations (100) reached and the optimization hasn't converged yet.\n",
            "  warnings.warn(\n",
            "c:\\Users\\Hedi Aloulou\\anaconda3\\envs\\deep\\lib\\site-packages\\sklearn\\neural_network\\_multilayer_perceptron.py:691: ConvergenceWarning: Stochastic Optimizer: Maximum iterations (100) reached and the optimization hasn't converged yet.\n",
            "  warnings.warn(\n",
            "c:\\Users\\Hedi Aloulou\\anaconda3\\envs\\deep\\lib\\site-packages\\sklearn\\neural_network\\_multilayer_perceptron.py:691: ConvergenceWarning: Stochastic Optimizer: Maximum iterations (100) reached and the optimization hasn't converged yet.\n",
            "  warnings.warn(\n",
            "c:\\Users\\Hedi Aloulou\\anaconda3\\envs\\deep\\lib\\site-packages\\sklearn\\neural_network\\_multilayer_perceptron.py:691: ConvergenceWarning: Stochastic Optimizer: Maximum iterations (100) reached and the optimization hasn't converged yet.\n",
            "  warnings.warn(\n",
            "c:\\Users\\Hedi Aloulou\\anaconda3\\envs\\deep\\lib\\site-packages\\sklearn\\neural_network\\_multilayer_perceptron.py:691: ConvergenceWarning: Stochastic Optimizer: Maximum iterations (100) reached and the optimization hasn't converged yet.\n",
            "  warnings.warn(\n",
            "c:\\Users\\Hedi Aloulou\\anaconda3\\envs\\deep\\lib\\site-packages\\sklearn\\neural_network\\_multilayer_perceptron.py:691: ConvergenceWarning: Stochastic Optimizer: Maximum iterations (100) reached and the optimization hasn't converged yet.\n",
            "  warnings.warn(\n",
            "c:\\Users\\Hedi Aloulou\\anaconda3\\envs\\deep\\lib\\site-packages\\sklearn\\neural_network\\_multilayer_perceptron.py:691: ConvergenceWarning: Stochastic Optimizer: Maximum iterations (100) reached and the optimization hasn't converged yet.\n",
            "  warnings.warn(\n",
            "c:\\Users\\Hedi Aloulou\\anaconda3\\envs\\deep\\lib\\site-packages\\sklearn\\neural_network\\_multilayer_perceptron.py:691: ConvergenceWarning: Stochastic Optimizer: Maximum iterations (100) reached and the optimization hasn't converged yet.\n",
            "  warnings.warn(\n",
            "c:\\Users\\Hedi Aloulou\\anaconda3\\envs\\deep\\lib\\site-packages\\sklearn\\neural_network\\_multilayer_perceptron.py:691: ConvergenceWarning: Stochastic Optimizer: Maximum iterations (100) reached and the optimization hasn't converged yet.\n",
            "  warnings.warn(\n",
            "c:\\Users\\Hedi Aloulou\\anaconda3\\envs\\deep\\lib\\site-packages\\sklearn\\neural_network\\_multilayer_perceptron.py:691: ConvergenceWarning: Stochastic Optimizer: Maximum iterations (100) reached and the optimization hasn't converged yet.\n",
            "  warnings.warn(\n",
            "c:\\Users\\Hedi Aloulou\\anaconda3\\envs\\deep\\lib\\site-packages\\sklearn\\neural_network\\_multilayer_perceptron.py:691: ConvergenceWarning: Stochastic Optimizer: Maximum iterations (100) reached and the optimization hasn't converged yet.\n",
            "  warnings.warn(\n",
            "c:\\Users\\Hedi Aloulou\\anaconda3\\envs\\deep\\lib\\site-packages\\sklearn\\neural_network\\_multilayer_perceptron.py:691: ConvergenceWarning: Stochastic Optimizer: Maximum iterations (100) reached and the optimization hasn't converged yet.\n",
            "  warnings.warn(\n",
            "c:\\Users\\Hedi Aloulou\\anaconda3\\envs\\deep\\lib\\site-packages\\sklearn\\neural_network\\_multilayer_perceptron.py:691: ConvergenceWarning: Stochastic Optimizer: Maximum iterations (100) reached and the optimization hasn't converged yet.\n",
            "  warnings.warn(\n",
            "c:\\Users\\Hedi Aloulou\\anaconda3\\envs\\deep\\lib\\site-packages\\sklearn\\neural_network\\_multilayer_perceptron.py:691: ConvergenceWarning: Stochastic Optimizer: Maximum iterations (100) reached and the optimization hasn't converged yet.\n",
            "  warnings.warn(\n",
            "c:\\Users\\Hedi Aloulou\\anaconda3\\envs\\deep\\lib\\site-packages\\sklearn\\neural_network\\_multilayer_perceptron.py:691: ConvergenceWarning: Stochastic Optimizer: Maximum iterations (100) reached and the optimization hasn't converged yet.\n",
            "  warnings.warn(\n",
            "c:\\Users\\Hedi Aloulou\\anaconda3\\envs\\deep\\lib\\site-packages\\sklearn\\neural_network\\_multilayer_perceptron.py:691: ConvergenceWarning: Stochastic Optimizer: Maximum iterations (100) reached and the optimization hasn't converged yet.\n",
            "  warnings.warn(\n",
            "c:\\Users\\Hedi Aloulou\\anaconda3\\envs\\deep\\lib\\site-packages\\sklearn\\neural_network\\_multilayer_perceptron.py:691: ConvergenceWarning: Stochastic Optimizer: Maximum iterations (100) reached and the optimization hasn't converged yet.\n",
            "  warnings.warn(\n",
            "c:\\Users\\Hedi Aloulou\\anaconda3\\envs\\deep\\lib\\site-packages\\sklearn\\neural_network\\_multilayer_perceptron.py:691: ConvergenceWarning: Stochastic Optimizer: Maximum iterations (100) reached and the optimization hasn't converged yet.\n",
            "  warnings.warn(\n"
          ]
        },
        {
          "name": "stdout",
          "output_type": "stream",
          "text": [
            "KNN Best Parameters: {'metric': 'manhattan', 'n_neighbors': 7}\n",
            "KNN Best Score: 0.8666921313980137\n",
            "MLP Best Parameters: {'activation': 'relu', 'alpha': 0.01, 'hidden_layer_sizes': (50,), 'solver': 'adam'}\n",
            "MLP Best Score: 0.8455245734657499\n",
            "SVM Best Parameters: {'C': 1, 'kernel': 'rbf'}\n",
            "SVM Best Score: 0.8520286902639844\n",
            "Random Forest Best Parameters: {'max_depth': None, 'n_estimators': 50}\n",
            "Random Forest Best Score: 0.8634029369323487\n",
            "Decision Tree Best Parameters: {'max_depth': 5, 'min_samples_split': 5}\n",
            "Decision Tree Best Score: 0.8292695866225278\n"
          ]
        }
      ],
      "source": [
        "\n",
        "\n",
        "knn_param_grid = {'n_neighbors': [3, 5, 7],\n",
        "                  'metric': ['euclidean', 'manhattan']}\n",
        "mlp_param_grid = {'hidden_layer_sizes': [(50,), (100,), (50, 50)],\n",
        "                  'activation': ['relu', 'tanh'],\n",
        "                  'solver': ['adam'],\n",
        "                  'alpha': [0.0001, 0.001, 0.01]}\n",
        "svm_param_grid = {'C': [0.1, 1, 10],\n",
        "                  'kernel': ['linear', 'rbf']}\n",
        "rf_param_grid = {'n_estimators': [50, 100, 200],\n",
        "                 'max_depth': [None, 10, 20]}\n",
        "dt_param_grid = {'max_depth': [None, 5, 10],\n",
        "                 'min_samples_split': [2, 5, 10]}\n",
        "\n",
        "knn_classifier = KNeighborsClassifier()\n",
        "mlp_classifier = MLPClassifier(max_iter=100)\n",
        "svm_classifier = SVC()\n",
        "rf_classifier = RandomForestClassifier()\n",
        "dt_classifier = DecisionTreeClassifier()\n",
        "\n",
        "\n",
        "knn_grid_search = GridSearchCV(knn_classifier, knn_param_grid, cv=4)\n",
        "mlp_grid_search = GridSearchCV(mlp_classifier, mlp_param_grid, cv=4)\n",
        "svm_grid_search = GridSearchCV(svm_classifier, svm_param_grid, cv=4)\n",
        "rf_grid_search = GridSearchCV(rf_classifier, rf_param_grid, cv=4)\n",
        "dt_grid_search = GridSearchCV(dt_classifier, dt_param_grid, cv=4)\n",
        "\n",
        "\n",
        "knn_grid_search.fit(X_train, Y_train)\n",
        "mlp_grid_search.fit(X_train, Y_train)\n",
        "svm_grid_search.fit(X_train, Y_train)\n",
        "rf_grid_search.fit(X_train, Y_train)\n",
        "dt_grid_search.fit(X_train, Y_train)\n",
        "\n",
        "print(\"KNN Best Parameters:\", knn_grid_search.best_params_)\n",
        "print(\"KNN Best Score:\", knn_grid_search.best_score_)\n",
        "print(\"MLP Best Parameters:\", mlp_grid_search.best_params_)\n",
        "print(\"MLP Best Score:\", mlp_grid_search.best_score_)\n",
        "print(\"SVM Best Parameters:\", svm_grid_search.best_params_)\n",
        "print(\"SVM Best Score:\", svm_grid_search.best_score_)\n",
        "print(\"Random Forest Best Parameters:\", rf_grid_search.best_params_)\n",
        "print(\"Random Forest Best Score:\", rf_grid_search.best_score_)\n",
        "print(\"Decision Tree Best Parameters:\", dt_grid_search.best_params_)\n",
        "print(\"Decision Tree Best Score:\", dt_grid_search.best_score_)"
      ]
    },
    {
      "cell_type": "markdown",
      "metadata": {
        "id": "N-gVIg9igZGD"
      },
      "source": [
        "\n",
        "\n",
        "---\n",
        "## Results analysis and evaluation\n",
        "### KNN best parameters\n",
        "*   metrics = manhattan\n",
        "*   n_neighbirs = 5\n",
        "### KNN best score\n",
        "*   0.891053391053391\n",
        "\n",
        "---\n",
        "\n",
        "### MLP best parameters\n",
        "*   Activation = relu\n",
        "*   alpha = 0.0001\n",
        "*   hidden_layer_sizes = (50,50)\n",
        "*   solver = adam\n",
        "\n",
        "\n",
        "### MLP best score\n",
        "*   0.8926767676767676\n",
        "\n",
        "---\n",
        "\n",
        "### SVM best parameters\n",
        "*   c = 1\n",
        "*   kernel = rbf\n",
        "\n",
        "\n",
        "### SVM best score\n",
        "*   0.8894194041252864\n",
        "\n",
        "---\n",
        "\n",
        "### Random forest best parameters\n",
        "*   max_depth = none\n",
        "*   n_estimators = 200\n",
        "\n",
        "\n",
        "### Random forest best score\n",
        "*   0.8943001443001443\n",
        "\n",
        "---\n",
        "\n",
        "### Decision tree best parameters\n",
        "*   max_depth = 10\n",
        "*   min_samples_split = 10\n",
        "\n",
        "\n",
        "### Random forest best score\n",
        "*   0.8585858585858586\n"
      ]
    },
    {
      "cell_type": "markdown",
      "metadata": {
        "id": "R-MDWWOyi2GG"
      },
      "source": [
        "## 5.2. recreation of each model using the best parameters"
      ]
    },
    {
      "cell_type": "code",
      "execution_count": 25,
      "metadata": {
        "id": "wf6rVb2JiHFR"
      },
      "outputs": [
        {
          "name": "stdout",
          "output_type": "stream",
          "text": [
            "Confusion Matrix for KNN:\n",
            "[[113  21]\n",
            " [ 16 153]]\n",
            "\n",
            "Confusion Matrix for MLP:\n",
            "[[111  23]\n",
            " [ 21 148]]\n",
            "\n",
            "Confusion Matrix for SVM:\n",
            "[[112  22]\n",
            " [ 17 152]]\n",
            "\n",
            "Confusion Matrix for Random Forest:\n",
            "[[114  20]\n",
            " [ 18 151]]\n",
            "\n",
            "Confusion Matrix for Decision Tree:\n",
            "[[115  19]\n",
            " [ 30 139]]\n"
          ]
        },
        {
          "name": "stderr",
          "output_type": "stream",
          "text": [
            "c:\\Users\\Hedi Aloulou\\anaconda3\\envs\\deep\\lib\\site-packages\\sklearn\\neural_network\\_multilayer_perceptron.py:691: ConvergenceWarning: Stochastic Optimizer: Maximum iterations (200) reached and the optimization hasn't converged yet.\n",
            "  warnings.warn(\n"
          ]
        }
      ],
      "source": [
        "from sklearn.metrics import confusion_matrix\n",
        "\n",
        "knn_best = KNeighborsClassifier(**knn_grid_search.best_params_)\n",
        "mlp_best = MLPClassifier(**mlp_grid_search.best_params_)\n",
        "svm_best = SVC(**svm_grid_search.best_params_)\n",
        "rf_best = RandomForestClassifier(**rf_grid_search.best_params_)\n",
        "dt_best = DecisionTreeClassifier(**dt_grid_search.best_params_)\n",
        "\n",
        "\n",
        "knn_best.fit(X_train, Y_train)\n",
        "mlp_best.fit(X_train, Y_train)\n",
        "svm_best.fit(X_train, Y_train)\n",
        "rf_best.fit(X_train, Y_train)\n",
        "dt_best.fit(X_train, Y_train)\n",
        "\n",
        "\n",
        "y_pred_knn = knn_best.predict(X_test)\n",
        "y_pred_mlp = mlp_best.predict(X_test)\n",
        "y_pred_svm = svm_best.predict(X_test)\n",
        "y_pred_rf = rf_best.predict(X_test)\n",
        "y_pred_dt = dt_best.predict(X_test)\n",
        "\n",
        "conf_matrix_knn = confusion_matrix(Y_test, y_pred_knn)\n",
        "conf_matrix_mlp = confusion_matrix(Y_test, y_pred_mlp)\n",
        "conf_matrix_svm = confusion_matrix(Y_test, y_pred_svm)\n",
        "conf_matrix_rf = confusion_matrix(Y_test, y_pred_rf)\n",
        "conf_matrix_dt = confusion_matrix(Y_test, y_pred_dt)\n",
        "\n",
        "\n",
        "print(\"Confusion Matrix for KNN:\")\n",
        "print(conf_matrix_knn)\n",
        "print(\"\\nConfusion Matrix for MLP:\")\n",
        "print(conf_matrix_mlp)\n",
        "print(\"\\nConfusion Matrix for SVM:\")\n",
        "print(conf_matrix_svm)\n",
        "print(\"\\nConfusion Matrix for Random Forest:\")\n",
        "print(conf_matrix_rf)\n",
        "print(\"\\nConfusion Matrix for Decision Tree:\")\n",
        "print(conf_matrix_dt)\n"
      ]
    },
    {
      "cell_type": "markdown",
      "metadata": {
        "id": "bU2yTuVTn9GA"
      },
      "source": [
        "# 6. Classification report"
      ]
    },
    {
      "cell_type": "code",
      "execution_count": 26,
      "metadata": {
        "id": "bp7U0Gq4n_O6"
      },
      "outputs": [
        {
          "name": "stdout",
          "output_type": "stream",
          "text": [
            "************** Perfomance of KNN ******************\n",
            "              precision    recall  f1-score   support\n",
            "\n",
            "           0       0.88      0.84      0.86       134\n",
            "           1       0.88      0.91      0.89       169\n",
            "\n",
            "    accuracy                           0.88       303\n",
            "   macro avg       0.88      0.87      0.88       303\n",
            "weighted avg       0.88      0.88      0.88       303\n",
            "\n",
            "************** Perfomance of Multi layer perceptron ******************\n",
            "              precision    recall  f1-score   support\n",
            "\n",
            "           0       0.84      0.83      0.83       134\n",
            "           1       0.87      0.88      0.87       169\n",
            "\n",
            "    accuracy                           0.85       303\n",
            "   macro avg       0.85      0.85      0.85       303\n",
            "weighted avg       0.85      0.85      0.85       303\n",
            "\n",
            "************** Perfomance of SVM ******************\n",
            "              precision    recall  f1-score   support\n",
            "\n",
            "           0       0.87      0.84      0.85       134\n",
            "           1       0.87      0.90      0.89       169\n",
            "\n",
            "    accuracy                           0.87       303\n",
            "   macro avg       0.87      0.87      0.87       303\n",
            "weighted avg       0.87      0.87      0.87       303\n",
            "\n",
            "************** Perfomance of Random Forest ******************\n",
            "              precision    recall  f1-score   support\n",
            "\n",
            "           0       0.86      0.85      0.86       134\n",
            "           1       0.88      0.89      0.89       169\n",
            "\n",
            "    accuracy                           0.87       303\n",
            "   macro avg       0.87      0.87      0.87       303\n",
            "weighted avg       0.87      0.87      0.87       303\n",
            "\n",
            "************** Perfomance of Decision Tree ******************\n",
            "              precision    recall  f1-score   support\n",
            "\n",
            "           0       0.75      0.78      0.76       134\n",
            "           1       0.82      0.79      0.80       169\n",
            "\n",
            "    accuracy                           0.79       303\n",
            "   macro avg       0.78      0.78      0.78       303\n",
            "weighted avg       0.79      0.79      0.79       303\n",
            "\n"
          ]
        }
      ],
      "source": [
        "print(\"************** Perfomance of KNN ******************\")\n",
        "print(classification_report(Y_test,y_pred_knn))\n",
        "print(\"************** Perfomance of Multi layer perceptron ******************\")\n",
        "print(classification_report(Y_test,y_pred_mlp))\n",
        "print(\"************** Perfomance of SVM ******************\")\n",
        "print(classification_report(Y_test,y_pred_svm))\n",
        "print(\"************** Perfomance of Random Forest ******************\")\n",
        "print(classification_report(Y_test,y_pred_rf))\n",
        "print(\"************** Perfomance of Decision Tree ******************\")\n",
        "print(classification_report(Y_test,y_predict_dt))"
      ]
    },
    {
      "cell_type": "markdown",
      "metadata": {
        "id": "LYfgIMyNotUP"
      },
      "source": []
    },
    {
      "cell_type": "markdown",
      "metadata": {},
      "source": [
        "# 7. deployment"
      ]
    },
    {
      "cell_type": "code",
      "execution_count": 27,
      "metadata": {},
      "outputs": [],
      "source": [
        "pickle.dump(knn_best,open('best_model.pickle',\"wb\"))"
      ]
    }
  ],
  "metadata": {
    "colab": {
      "provenance": []
    },
    "kernelspec": {
      "display_name": "Python 3",
      "name": "python3"
    },
    "language_info": {
      "codemirror_mode": {
        "name": "ipython",
        "version": 3
      },
      "file_extension": ".py",
      "mimetype": "text/x-python",
      "name": "python",
      "nbconvert_exporter": "python",
      "pygments_lexer": "ipython3",
      "version": "3.10.13"
    }
  },
  "nbformat": 4,
  "nbformat_minor": 0
}
